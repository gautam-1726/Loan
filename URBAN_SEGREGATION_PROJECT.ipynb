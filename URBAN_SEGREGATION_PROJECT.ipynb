{
  "cells": [
    {
      "cell_type": "markdown",
      "metadata": {
        "id": "UARtihqwhydt"
      },
      "source": [
        "## Analysis of Urban seggregation in India\n",
        "### Modification in Schelling's model\n",
        "\n",
        "In India urban seggregation is more likely to be led according to poverty levels instead of ethenticity, hence we are planning to modify the Schelling model and happiness scores of agents in a manner that'll fit better in this scenario\n",
        "\n",
        "- Formulation by: \n",
        "    - Sudip Mondal (CE20B112)\n",
        "- Coding By:\n",
        "    - Sankaranarayanan B (CE18B051)\n",
        "    - Darpan Balar B (BS20B013)\n",
        "- Inference and research by:\n",
        "    - Mohammed Nazeem K (BS20B022)\n",
        "\n",
        "\n",
        "# Map\n",
        "- Neighbours are in K Nearest Form \n",
        "    - https://www.geeksforgeeks.org/k-nearest-neighbours/\n",
        "    - https://medium.com/swlh/k-nearest-neighbor-ca2593d7a3c4\n",
        "- Distances are euclidean"
      ]
    },
    {
      "cell_type": "code",
      "execution_count": null,
      "metadata": {
        "id": "DN-lUYD-3SKy"
      },
      "outputs": [],
      "source": [
        "import math\n",
        "import numpy as np\n",
        "import matplotlib.pyplot as plt\n",
        "import random\n",
        "import seaborn as sns\n",
        "# import pandas as pd"
      ]
    },
    {
      "cell_type": "code",
      "execution_count": null,
      "metadata": {
        "id": "RWDvIbbZcruo"
      },
      "outputs": [],
      "source": [
        "def sigmoid(x):\n",
        "    if x < 0:\n",
        "        temp = np.exp(x)\n",
        "        temp = temp/(1+temp)\n",
        "    else:\n",
        "        temp = np.exp(-x)\n",
        "        temp = 1/(1+temp)\n",
        "    return(temp)"
      ]
    },
    {
      "cell_type": "code",
      "execution_count": null,
      "metadata": {
        "id": "L7hzIfBRyZkY"
      },
      "outputs": [],
      "source": [
        "class Location:\n",
        "  def __init__(self,x,y):\n",
        "    self.x = x\n",
        "    self.y = y\n",
        "    \n",
        "  def getDistance(self,location2):\n",
        "    x1,y1 = self.x,self.y\n",
        "    x2,y2 = location2.x,location2.y\n",
        "    dist = (x1-x2)**2 + (y1-y2)**2\n",
        "    return dist ** 0.5\n"
      ]
    },
    {
      "cell_type": "code",
      "execution_count": null,
      "metadata": {
        "id": "UNnS3TXqknGy"
      },
      "outputs": [],
      "source": [
        "class Facility():\n",
        "  def __init__(self, happiness, cost, f_location, name):\n",
        "    assert(cost in range(0,11)), \"Cost should be between 0 to 10\"\n",
        "    assert(happiness in range(0,11)), \"Happiness should be between 0 to 10\"\n",
        "    self.happiness = happiness\n",
        "    self.cost = cost\n",
        "    self.name = name\n",
        "    self.f_location = f_location\n",
        "  \n",
        "  def get_happiness_contribution(self,location):\n",
        "    return(self.happiness*np.exp(-1*location.getDistance(self.f_location)))\n",
        "  \n",
        "  def get_cost_contribution(self,location):\n",
        "    return(self.cost*np.exp(-1*location.getDistance(self.f_location)))\n",
        "  "
      ]
    },
    {
      "cell_type": "code",
      "execution_count": null,
      "metadata": {
        "id": "cyrlA9JH3OrI"
      },
      "outputs": [],
      "source": [
        "def happiness_a(facilities, a_count, b_count, location, m ,n, k):\n",
        "\n",
        "    col = 0.1 # cost of living\n",
        "    neighbour_happiness = 0 # happiness due to interaction with other agents in neighbourhood\n",
        "    fac_happiness = 0 # happiness due to presence of facilities\n",
        "\n",
        "    for fac in facilities:\n",
        "        if (fac.f_location.x in range(location.x -k,location.x + k)) & (fac.f_location.y in range(location.y -k,location.y + k)):\n",
        "            col += fac.get_cost_contribution(location)\n",
        "            fac_happiness += fac.get_happiness_contribution(location)\n",
        "\n",
        "    x = a_count\n",
        "    x *= 4/m\n",
        "    neighbour_happiness += sigmoid(x) - 0.5\n",
        "    \n",
        "    x = b_count\n",
        "    x *= 4/n\n",
        "    neighbour_happiness += sigmoid(x) - 0.5\n",
        "    # print(neighbour_happiness, fac_happiness, col)\n",
        "    overall_happiness = 1/math.log(col) + fac_happiness + neighbour_happiness\n",
        "    # print(overall_happiness)\n",
        "    return( (sigmoid(overall_happiness) - 0.5)*2)"
      ]
    },
    {
      "cell_type": "code",
      "execution_count": null,
      "metadata": {
        "id": "7fe4FgQv3CAI"
      },
      "outputs": [],
      "source": [
        "def happiness_b(facilities, a_count, location, p, k):\n",
        "    col = 0.1 # cost of living\n",
        "    neighbour_happiness = 0 # happiness due to interaction with other agents in neighbourhood\n",
        "    fac_happiness = 0 # happiness due to presence of facilities\n",
        "\n",
        "    for fac in facilities:\n",
        "        if (fac.f_location.x in range(location.x -k,location.x + k)) & (fac.f_location.y in range(location.y -k,location.y + k)):\n",
        "            col += fac.get_cost_contribution(location)\n",
        "            fac_happiness += fac.get_happiness_contribution(location)\n",
        "\n",
        "    x = a_count\n",
        "    x *= 2/p\n",
        "    neighbour_happiness += (sigmoid(x) - 0.5)*2\n",
        "    # print(neighbour_happiness, fac_happiness, col)\n",
        "    overall_happiness = 1/(col**3) + fac_happiness + neighbour_happiness\n",
        "    # print(overall_happiness)\n",
        "    return( (sigmoid(overall_happiness) - 0.5)*2)"
      ]
    },
    {
      "cell_type": "code",
      "execution_count": null,
      "metadata": {
        "id": "GWZs2tIh3Zro"
      },
      "outputs": [],
      "source": [
        "def draw_location(location):\n",
        "    distance = list(range(-20,21))\n",
        "    weights = [(1/((abs(i)-10)**2 + 1)) for i in distance]\n",
        "    x_move = random.choices(distance, weights)\n",
        "    y_move = random.choices(distance, weights)\n",
        "    return(Location(max(0,min(19,location.x + x_move[0])), max(0,min(19,location.y + y_move[0]))))"
      ]
    },
    {
      "cell_type": "code",
      "execution_count": null,
      "metadata": {
        "id": "Pe2u9tF0z8tP"
      },
      "outputs": [],
      "source": [
        "def count(p,agent):\n",
        "  n = 0\n",
        "  neighbour_rad = list(range(k))\n",
        "  for i in neighbour_rad:\n",
        "    for j in neighbour_rad:\n",
        "      if (p[0] + i, p[1] + j) in agent:\n",
        "        n = n + 1\n",
        "  return n "
      ]
    },
    {
      "cell_type": "code",
      "execution_count": null,
      "metadata": {
        "id": "xPSnDj5rzjRc"
      },
      "outputs": [],
      "source": [
        "def plot_distribution(agents_a, agents_b, facilities, cycle_num):\n",
        "    \n",
        "    plot_args = {'markersize': 8, 'alpha': 0.6}\n",
        "    plt.title(f'Cycle number {cycle_num}')\n",
        "\n",
        "    ax = []\n",
        "    ay = []\n",
        "    for a in agents_a:\n",
        "        ax.append(a[0])\n",
        "        ay.append(a[1])\n",
        "\n",
        "    plt.plot(ax, ay, 'o', markerfacecolor='red', **plot_args, label = 'Rich') # Agent A - rich people\n",
        "\n",
        "    bx = []\n",
        "    by = []\n",
        "    for b in agents_b:\n",
        "        bx.append(b[0])\n",
        "        by.append(b[1])\n",
        "\n",
        "    plt.plot(bx, by, 'o', markerfacecolor='green', **plot_args, label = 'Poor') # Agent B - poor people\n",
        "\n",
        "    fx_s = []\n",
        "    fy_s = []\n",
        "    fx_h = []\n",
        "    fy_h = []\n",
        "    fx_w = []\n",
        "    fy_w = []\n",
        "    for f in facilities:\n",
        "        if f.name == 'School':\n",
        "            fx_s.append(f.f_location.x)\n",
        "            fy_s.append(f.f_location.y)\n",
        "        if f.name == 'Hospital':\n",
        "            fx_h.append(f.f_location.x)\n",
        "            fy_h.append(f.f_location.y)\n",
        "        if f.name == 'Places of Worship':\n",
        "            fx_w.append(f.f_location.x)\n",
        "            fy_w.append(f.f_location.y)\n",
        "\n",
        "    plt.plot(fx_s, fy_s, 'o', markerfacecolor='yellow', **plot_args, label = 'School') # school \n",
        "    plt.plot(fx_h, fy_h, 'o', markerfacecolor='white', **plot_args, label = 'Hospital') # hospital \n",
        "    plt.plot(fx_w, fy_w, 'o', markerfacecolor='brown', **plot_args, label = 'Places of Worship') # places of worship\n",
        "    \n",
        "    plt.legend(bbox_to_anchor = (1.5, 0.6), loc='center right')\n",
        "    plt.xlim(-1,20)\n",
        "    plt.ylim(-1,20)\n",
        "    plt.show()"
      ]
    },
    {
      "cell_type": "code",
      "execution_count": null,
      "metadata": {
        "id": "3If95K5Qp7Gw"
      },
      "outputs": [],
      "source": [
        "k = 5\n",
        "m = 15\n",
        "n = 10\n",
        "p = 10\n",
        "happiness = [5, 10, 2.5] # should be between 0-10\n",
        "cost = [6, 8, 2] #should be between 0-10\n",
        "names = ['School', 'Hospital', 'Places of Worship']\n",
        "side = 20"
      ]
    },
    {
      "cell_type": "code",
      "execution_count": null,
      "metadata": {
        "id": "64qGyRUY0Qdd"
      },
      "outputs": [],
      "source": [
        "indices = list(range(400))\n",
        "np.random.seed(0)\n",
        "np.random.shuffle(indices)\n",
        "\n",
        "# Initializing Agents A - n_a in number\n",
        "a_loc_list = []\n",
        "n_a = 125\n",
        "for i in range(n_a):\n",
        "    loc = Location(indices[i]%side, indices[i]//side)\n",
        "    a_loc_list.append((loc.x, loc.y))\n",
        "\n",
        "# Initializing Agents B - n_b in number\n",
        "b_loc_list = []\n",
        "n_b = 175\n",
        "for i in range(n_a, n_a + n_b):\n",
        "    loc = Location(indices[i]%side, indices[i]//side)\n",
        "    b_loc_list.append((loc.x, loc.y))\n",
        "\n",
        "# Initializing schools - n_s in number\n",
        "facilities = []\n",
        "f_loc_list = []\n",
        "n_s = 3\n",
        "for i in range(n_a + n_b, n_a + n_b + n_s):\n",
        "    loc = Location(indices[i]%side, indices[i]//side)\n",
        "    f_loc_list.append((loc.x,loc.y))\n",
        "    facilities.append(Facility(happiness[0],cost[0],loc,names[0]))\n",
        "\n",
        "# Initializing hospitals - n_h in number\n",
        "n_h = 5\n",
        "for i in range(n_a + n_b + n_s, n_a + n_b + n_s + n_h):\n",
        "    loc = Location(indices[i]%side, indices[i]//side)\n",
        "    f_loc_list.append((loc.x,loc.y))\n",
        "    facilities.append(Facility(happiness[0],cost[0],loc,names[1]))\n",
        "\n",
        "# Initializing places of worship - n_w in number\n",
        "n_w = 7\n",
        "for i in range(n_a + n_b + n_s + n_h, n_a + n_b + n_s + n_h + n_w):\n",
        "    loc = Location(indices[i]%side, indices[i]//side)\n",
        "    f_loc_list.append((loc.x,loc.y))\n",
        "    facilities.append(Facility(happiness[0],cost[0],loc,names[2]))  "
      ]
    },
    {
      "cell_type": "code",
      "execution_count": null,
      "metadata": {
        "colab": {
          "base_uri": "https://localhost:8080/",
          "height": 887
        },
        "id": "R-BOVqYY0Q_i",
        "outputId": "86ea3d91-1d62-4f17-a3b0-c7d8e2529b73"
      },
      "outputs": [],
      "source": [
        "max_iter = 100000\n",
        "\n",
        "iter = 0 \n",
        "icount = 0\n",
        "a_move_count = 0\n",
        "del_a_h = 0\n",
        "b_move_count = 0\n",
        "del_b_h = 0\n",
        "plot_distribution(a_loc_list, b_loc_list, facilities, iter)\n",
        "while iter < max_iter:\n",
        "    xr = np.random.randint(side)\n",
        "    yr = np.random.randint(side)\n",
        "\n",
        "    if (xr,yr) in a_loc_list:\n",
        "        ac = count((xr,yr), a_loc_list) - 1\n",
        "        bc = count((xr,yr), b_loc_list)\n",
        "        h_score = happiness_a(facilities, ac, bc, Location(xr,yr), m, n, k)\n",
        "        if h_score < 0.95:\n",
        "            lnew = draw_location(Location(xr,yr))\n",
        "            if ((lnew.x,lnew.y) not in list(set(a_loc_list) | set(f_loc_list) | set(b_loc_list))) & (happiness_a(facilities, ac, bc, lnew, m, n, k) > h_score):\n",
        "                a_loc_list.remove((xr,yr))\n",
        "                a_loc_list.append((lnew.x,lnew.y))\n",
        "                a_move_count += 1\n",
        "                del_a_h += happiness_a(facilities, ac, bc, lnew, m, n, k) - h_score\n",
        "\n",
        "    elif (xr,yr) in b_loc_list:\n",
        "        ac = count((xr,yr), a_loc_list)\n",
        "        h_score = happiness_b(facilities, ac, Location(xr,yr), p, k)\n",
        "        if h_score < 0.95:\n",
        "            lnew = draw_location(Location(xr,yr))\n",
        "            if ((lnew.x,lnew.y) not in list(set(a_loc_list) | set(f_loc_list) | set(b_loc_list))) & (happiness_b(facilities, ac, lnew, p, k) > h_score):\n",
        "                b_loc_list.remove((xr,yr))\n",
        "                b_loc_list.append((lnew.x,lnew.y))\n",
        "                b_move_count += 1\n",
        "                del_b_h += happiness_b(facilities, ac, lnew, p, k) - h_score\n",
        "\n",
        "    iter += 1\n",
        "plot_distribution(a_loc_list, b_loc_list, facilities, iter)"
      ]
    },
    {
      "cell_type": "code",
      "execution_count": null,
      "metadata": {
        "colab": {
          "base_uri": "https://localhost:8080/"
        },
        "id": "VHgYJWXxE_n4",
        "outputId": "6cee2937-6352-461f-f850-0c3c9ac3c453"
      },
      "outputs": [],
      "source": [
        "print(a_move_count, b_move_count, del_a_h/a_move_count, del_b_h/b_move_count)"
      ]
    },
    {
      "cell_type": "code",
      "execution_count": null,
      "metadata": {
        "id": "O6eqX9U0D40I"
      },
      "outputs": [],
      "source": [
        "indices = list(range(400))\n",
        "np.random.seed(0)\n",
        "np.random.shuffle(indices)\n",
        "\n",
        "# Initializing Agents A - n_a in number\n",
        "a_loc_list = []\n",
        "n_a = 125\n",
        "for i in range(n_a):\n",
        "    loc = Location(indices[i]%side, indices[i]//side)\n",
        "    a_loc_list.append((loc.x, loc.y))\n",
        "\n",
        "# Initializing Agents B - n_b in number\n",
        "b_loc_list = []\n",
        "n_b = 175\n",
        "for i in range(n_a, n_a + n_b):\n",
        "    loc = Location(indices[i]%side, indices[i]//side)\n",
        "    b_loc_list.append((loc.x, loc.y))\n",
        "\n",
        "# Initializing schools - n_s in number\n",
        "facilities = []\n",
        "f_loc_list = []\n",
        "n_s = 3\n",
        "for i in range(n_a + n_b, n_a + n_b + n_s):\n",
        "    loc = Location(indices[i]%side, indices[i]//side)\n",
        "    f_loc_list.append((loc.x,loc.y))\n",
        "    facilities.append(Facility(happiness[0],cost[0],loc,names[0]))\n",
        "\n",
        "# Initializing hospitals - n_h in number\n",
        "n_h = 5\n",
        "for i in range(n_a + n_b + n_s, n_a + n_b + n_s + n_h):\n",
        "    loc = Location(indices[i]%side, indices[i]//side)\n",
        "    f_loc_list.append((loc.x,loc.y))\n",
        "    facilities.append(Facility(happiness[0],cost[0],loc,names[1]))\n",
        "\n",
        "# Initializing places of worship - n_w in number\n",
        "n_w = 7\n",
        "for i in range(n_a + n_b + n_s + n_h, n_a + n_b + n_s + n_h + n_w):\n",
        "    loc = Location(indices[i]%side, indices[i]//side)\n",
        "    f_loc_list.append((loc.x,loc.y))\n",
        "    facilities.append(Facility(happiness[0],cost[0],loc,names[2]))  "
      ]
    },
    {
      "cell_type": "code",
      "execution_count": null,
      "metadata": {
        "colab": {
          "base_uri": "https://localhost:8080/",
          "height": 887
        },
        "id": "hdkudYJ4D0zY",
        "outputId": "bc77a230-9600-416b-b226-b763c40370a8"
      },
      "outputs": [],
      "source": [
        "max_iter = 100000\n",
        "\n",
        "iter = 0 \n",
        "icount = 0\n",
        "a_move_count = 0\n",
        "del_a_h = 0\n",
        "b_move_count = 0\n",
        "del_b_h = 0\n",
        "plot_distribution(a_loc_list, b_loc_list, facilities, iter)\n",
        "while iter < max_iter:\n",
        "    xr = np.random.randint(side)\n",
        "    yr = np.random.randint(side)\n",
        "\n",
        "    if (xr,yr) in a_loc_list:\n",
        "        ac = count((xr,yr), a_loc_list) - 1\n",
        "        bc = count((xr,yr), b_loc_list)\n",
        "        h_score = happiness_a(facilities, ac, bc, Location(xr,yr), m, n, k)\n",
        "        if h_score < 0.95:\n",
        "            lnew = draw_location(Location(xr,yr))\n",
        "            if ((lnew.x,lnew.y) not in list(set(a_loc_list) | set(f_loc_list) | set(b_loc_list))) & (happiness_a(facilities, ac, bc, lnew, m, n, k) > h_score):\n",
        "                a_loc_list.remove((xr,yr))\n",
        "                a_loc_list.append((lnew.x,lnew.y))\n",
        "                a_move_count += 1\n",
        "                del_a_h += happiness_a(facilities, ac, bc, lnew, m, n, k) - h_score\n",
        "\n",
        "    elif (xr,yr) in b_loc_list:\n",
        "        ac = count((xr,yr), a_loc_list)\n",
        "        h_score = happiness_b(facilities, ac, Location(xr,yr), p, k)\n",
        "        if h_score < 0.95:\n",
        "            lnew = draw_location(Location(xr,yr))\n",
        "            if ((lnew.x,lnew.y) not in list(set(a_loc_list) | set(f_loc_list) | set(b_loc_list))) & (happiness_b(facilities, ac, lnew, p, k) > 1.05*h_score):\n",
        "                b_loc_list.remove((xr,yr))\n",
        "                b_loc_list.append((lnew.x,lnew.y))\n",
        "                b_move_count += 1\n",
        "                del_b_h += happiness_b(facilities, ac, lnew, p, k) - h_score\n",
        "\n",
        "    iter += 1\n",
        "plot_distribution(a_loc_list, b_loc_list, facilities, iter)"
      ]
    },
    {
      "cell_type": "code",
      "execution_count": null,
      "metadata": {
        "colab": {
          "base_uri": "https://localhost:8080/"
        },
        "id": "Vh5QOH_WFLPP",
        "outputId": "3885ad6c-af98-41e8-f129-7ddcd0325cf0"
      },
      "outputs": [],
      "source": [
        "print(a_move_count, b_move_count, del_a_h/a_move_count, del_b_h/b_move_count)"
      ]
    },
    {
      "cell_type": "code",
      "execution_count": null,
      "metadata": {
        "id": "LWzhYIYlIi3Q"
      },
      "outputs": [],
      "source": [
        "indices = list(range(400))\n",
        "np.random.seed(0)\n",
        "np.random.shuffle(indices)\n",
        "\n",
        "# Initializing Agents A - n_a in number\n",
        "a_loc_list = []\n",
        "n_a = 125\n",
        "for i in range(n_a):\n",
        "    loc = Location(indices[i]%side, indices[i]//side)\n",
        "    a_loc_list.append((loc.x, loc.y))\n",
        "\n",
        "# Initializing Agents B - n_b in number\n",
        "b_loc_list = []\n",
        "n_b = 175\n",
        "for i in range(n_a, n_a + n_b):\n",
        "    loc = Location(indices[i]%side, indices[i]//side)\n",
        "    b_loc_list.append((loc.x, loc.y))\n",
        "\n",
        "# Initializing schools - n_s in number\n",
        "facilities = []\n",
        "f_loc_list = []\n",
        "n_s = 3\n",
        "for i in range(n_a + n_b, n_a + n_b + n_s):\n",
        "    loc = Location(indices[i]%side, indices[i]//side)\n",
        "    f_loc_list.append((loc.x,loc.y))\n",
        "    facilities.append(Facility(happiness[0],cost[0],loc,names[0]))\n",
        "\n",
        "# Initializing hospitals - n_h in number\n",
        "n_h = 5\n",
        "for i in range(n_a + n_b + n_s, n_a + n_b + n_s + n_h):\n",
        "    loc = Location(indices[i]%side, indices[i]//side)\n",
        "    f_loc_list.append((loc.x,loc.y))\n",
        "    facilities.append(Facility(happiness[0],cost[0],loc,names[1]))\n",
        "\n",
        "# Initializing places of worship - n_w in number\n",
        "n_w = 7\n",
        "for i in range(n_a + n_b + n_s + n_h, n_a + n_b + n_s + n_h + n_w):\n",
        "    loc = Location(indices[i]%side, indices[i]//side)\n",
        "    f_loc_list.append((loc.x,loc.y))\n",
        "    facilities.append(Facility(happiness[0],cost[0],loc,names[2]))  "
      ]
    },
    {
      "cell_type": "code",
      "execution_count": null,
      "metadata": {
        "id": "9-LCABu4HQ2o"
      },
      "outputs": [],
      "source": [
        "def draw_location(location, type_of_agent, a_list, b_list, facilities):\n",
        "    # distance = list(range(-6,7))\n",
        "    assert type_of_agent in ['A','a','B','B'], 'Invalid type of agent'\n",
        "    weights = []\n",
        "    locations = []\n",
        "    for x in range(max(location.x-6,0),min(19,location.x+7)):\n",
        "        for y in range(max(location.y-6,0),min(19,location.y+7)):\n",
        "            locations.append(Location(x,y))\n",
        "            if type_of_agent in ['A','a']:\n",
        "                ac = count((x,y), a_list) - 1\n",
        "                bc = count((x,y), b_list)\n",
        "                wnum = happiness_a(facilities, ac, bc, Location(x,y), m, n, k)\n",
        "                wden =location.getDistance((Location(abs(x),abs(y)))) + 1\n",
        "                weights.append(wnum/wden)\n",
        "            else:\n",
        "                ac = count((x,y), a_list) \n",
        "                wnum = happiness_b(facilities, ac, Location(x,y), p, k)\n",
        "                wden = location.getDistance((Location(abs(x),abs(y)))) + 1\n",
        "                weights.append(wnum/wden)           \n",
        "    # print(len(weights))\n",
        "    # x_move = random.choices(distance, weights)\n",
        "    # y_move = random.choices(distance, weights)\n",
        "    # print(locations[0])\n",
        "    # return(locations[np.argmax(np.array(weights))])\n",
        "    return(random.choices(locations, weights))"
      ]
    },
    {
      "cell_type": "code",
      "execution_count": null,
      "metadata": {
        "colab": {
          "base_uri": "https://localhost:8080/",
          "height": 1000
        },
        "id": "miKVOSQsH_ja",
        "outputId": "513e56b9-8efb-4116-ca6c-d2a11bb86e2a"
      },
      "outputs": [],
      "source": [
        "max_iter = 100000\n",
        "\n",
        "iter = 0 \n",
        "icount = 0\n",
        "a_move_count = 0\n",
        "del_a_h = 0\n",
        "b_move_count = 0\n",
        "del_b_h = 0\n",
        "# plot_distribution(a_loc_list, b_loc_list, facilities, iter)\n",
        "while iter < max_iter:\n",
        "    xr = np.random.randint(side)\n",
        "    yr = np.random.randint(side)\n",
        "\n",
        "    if iter%10000 == 0:\n",
        "        print(str(iter) + ' Iterations completed')\n",
        "        plot_distribution(a_loc_list, b_loc_list, facilities, iter)\n",
        "\n",
        "    if (xr,yr) in a_loc_list:\n",
        "        ac = count((xr,yr), a_loc_list) - 1\n",
        "        bc = count((xr,yr), b_loc_list)\n",
        "        h_score = happiness_a(facilities, ac, bc, Location(xr,yr), m, n, k)\n",
        "        if h_score < 0.95:\n",
        "            lnew = draw_location(Location(xr,yr), 'A', a_loc_list, b_loc_list, facilities)[0]\n",
        "            if ((lnew.x,lnew.y) not in list(set(a_loc_list) | set(f_loc_list) | set(b_loc_list))) & (happiness_a(facilities, ac, bc, lnew, m, n, k) > h_score):\n",
        "                a_loc_list.remove((xr,yr))\n",
        "                a_loc_list.append((lnew.x,lnew.y))\n",
        "                a_move_count += 1\n",
        "                del_a_h += happiness_a(facilities, ac, bc, lnew, m, n, k) - h_score\n",
        "\n",
        "    elif (xr,yr) in b_loc_list:\n",
        "        ac = count((xr,yr), a_loc_list)\n",
        "        h_score = happiness_b(facilities, ac, Location(xr,yr), p, k)\n",
        "        if h_score < 0.95:\n",
        "            lnew = draw_location(Location(xr,yr), 'B', a_loc_list, [], facilities)[0]\n",
        "            if ((lnew.x,lnew.y) not in list(set(a_loc_list) | set(f_loc_list) | set(b_loc_list))) & (happiness_b(facilities, ac, lnew, p, k) > 1.05*h_score):\n",
        "                b_loc_list.remove((xr,yr))\n",
        "                b_loc_list.append((lnew.x,lnew.y))\n",
        "                b_move_count += 1\n",
        "                del_b_h += happiness_b(facilities, ac, lnew, p, k) - h_score\n",
        "\n",
        "    iter += 1\n",
        "plot_distribution(a_loc_list, b_loc_list, facilities, iter)"
      ]
    },
    {
      "cell_type": "code",
      "execution_count": null,
      "metadata": {
        "colab": {
          "base_uri": "https://localhost:8080/"
        },
        "id": "q_t_uYdIddxH",
        "outputId": "6c8081e4-8523-4f32-b3ac-acc0be91da3a"
      },
      "outputs": [],
      "source": [
        "print(a_move_count, b_move_count, del_a_h/a_move_count, del_b_h/b_move_count)"
      ]
    }
  ],
  "metadata": {
    "colab": {
      "provenance": []
    },
    "kernelspec": {
      "display_name": "Python 3",
      "name": "python3"
    },
    "language_info": {
      "name": "python"
    }
  },
  "nbformat": 4,
  "nbformat_minor": 0
}
